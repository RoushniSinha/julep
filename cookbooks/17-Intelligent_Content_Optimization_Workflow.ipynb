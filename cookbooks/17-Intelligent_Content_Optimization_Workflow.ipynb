{
 "cells": [
  {
   "cell_type": "code",
   "execution_count": null,
   "metadata": {
    "vscode": {
     "languageId": "plaintext"
    }
   },
   "outputs": [],
   "source": [
    "<div align=\"center\">\n",
    "    <img src=\"https://socialify.git.ci/julep-ai/julep/image?description=1&descriptionEditable=Build%20AI%20agents%20and%20workflows%20with%20a%20simple%20API&font=Source%20Code%20Pro&logo=https%3A%2F%2Fraw.githubusercontent.com%2Fjulep-ai%2Fjulep%2Fdev%2F.github%2Fjulep-logo.svg&owner=1&pattern=Solid&stargazers=1&theme=Auto\" alt=\"julep\" width=\"640\" height=\"320\" />\n",
    "</div>\n",
    "\n",
    "## Task Definition: Intelligent Content Optimization Workflow\n",
    "\n",
    "### Overview\n",
    "\n",
    "This task demonstrates an intelligent content optimization workflow. It involves analyzing content performance, optimizing the content based on the analysis, and then publishing the optimized content.\n",
    "\n",
    "### Task Flow\n",
    "\n",
    "1. **Input**: \n",
    "   - Content ID for the content to be optimized.\n",
    "\n",
    "2. **Analyze Content**: \n",
    "   - Analyzes the performance of the content using predefined metrics.\n",
    "   - Provides a summary of the performance metrics.\n",
    "\n",
    "3. **Optimize Content**: \n",
    "   - Optimizes the content based on the performance summary.\n",
    "   - Generates the optimized content.\n",
    "\n",
    "4. **Publish Content**: \n",
    "   - Publishes the optimized content.\n",
    "   - Confirms the content has been published.\n",
    "\n",
    "### Key Features\n",
    "\n",
    "- Analyzes content performance to identify areas for improvement.\n",
    "- Optimizes content to enhance engagement and effectiveness.\n",
    "- Automates the publishing process for streamlined content management.\n",
    "```plain texts\n",
    "+-------------+     +----------------+     +----------------+     +----------------+\n",
    "|   Content   |     |   Analyze      |     |   Optimize     |     |   Publish      |\n",
    "|     ID      | --> |   Content      | --> |   Content      | --> |   Content      |\n",
    "|             |     |                |     |                |     |                |\n",
    "+-------------+     +----------------+     +----------------+     +----------------+\n",
    "    |                    |                      |                      |\n",
    "    |                    |                      |                      |\n",
    "    v                    v                      v                      v\n",
    " \"content123\"    Analyze performance    Generate optimized    Confirm content\n",
    "             summary: \"Moderate    content: \"Optimized    published: \"Content\n",
    "             engagement, low       content based on       published\"\n",
    "             click-through rates\"  performance summary\"\n",
    "```\n"
   ]
  },
  {
   "cell_type": "markdown",
   "metadata": {
    "vscode": {
     "languageId": "plaintext"
    }
   },
   "source": [
    "## Implementation\n",
    "\n",
    "To recreate the notebook and see the code implementation for this task, you can access the Google Colab notebook using the link below:\n",
    "\n",
    "<a target=\"_blank\" href=\"https://colab.research.google.com/github/julep-ai/julep/blob/dev/cookbooks/01-Website_Crawler_using_Spider.ipynb\">\n",
    "  <img src=\"https://colab.research.google.com/assets/colab-badge.svg\" alt=\"Open In Colab\"/>\n",
    "</a>\n",
    "\n",
    "### Additional Information\n",
    "\n",
    "For more details about the task or if you have any questions, please don't hesitate to contact the author:\n",
    "\n",
    "**Author:** Julep AI  \n",
    "**Contact:** [hey@julep.ai](mailto:hey@julep.ai) or  <a href=\"https://discord.com/invite/JTSBGRZrzj\" rel=\"dofollow\">Discord</a>\n"
   ]
  },
  {
   "cell_type": "markdown",
   "metadata": {
    "vscode": {
     "languageId": "plaintext"
    }
   },
   "source": [
    "Installing the Julep Client"
   ]
  },
  {
   "cell_type": "code",
   "execution_count": null,
   "metadata": {},
   "outputs": [],
   "source": [
    "!pip install julep -U --quiet"
   ]
  },
  {
   "cell_type": "code",
   "execution_count": null,
   "metadata": {},
   "outputs": [],
   "source": [
    "import uuid\n",
    "\n",
    "# NOTE: these UUIDs are used in order not to use the `create_or_update` methods instead of\n",
    "# the `create` methods for the sake of not creating new resources every time a cell is run.\n",
    "AGENT_UUID = uuid.uuid4()\n",
    "TASK_UUID = uuid.uuid4() "
   ]
  },
  {
   "cell_type": "markdown",
   "metadata": {},
   "source": [
    "### Creating Julep Client with the API Key"
   ]
  },
  {
   "cell_type": "code",
   "execution_count": null,
   "metadata": {},
   "outputs": [],
   "source": [
    "from julep import Client\n",
    "\n",
    "api_key = os.getenv(\"JULEP_API_KEY\") # Get the API key from the environment\n",
    "\n",
    "# Create a client\n",
    "client = Client(api_key=api_key, environment=\"dev\")"
   ]
  },
  {
   "cell_type": "markdown",
   "metadata": {},
   "source": [
    "## Creating an \"agent\"\n",
    "\n",
    "\n",
    "An **Agent** is a crucial object that encapsulates various settings related to a Large Language Model (LLM). These settings include:\n",
    "\n",
    "- **Model**: The specific AI model that the agent will utilize.\n",
    "- **Creativity Level**: A parameter that influences the randomness and variability of the model's outputs.\n",
    "- **Tools**: The functionalities and integrations that the agent can leverage during its operations.\n",
    "\n",
    "For a deeper understanding of how agents function within the Julep framework, please refer to the [official documentation](https://github.com/julep-ai/julep/blob/dev/docs/julep-concepts.md#agent).\n",
    "\n",
    "### Key Points\n",
    "\n",
    "- Agents are designed to manage and optimize LLM interactions.\n",
    "- They provide a structured way to define how the model behaves in various contexts.\n",
    "- The configuration of an agent directly impacts the performance and capabilities of the LLM in practical applications."
   ]
  },
  {
   "cell_type": "code",
   "execution_count": null,
   "metadata": {},
   "outputs": [],
   "source": [
    "# Defining the agent\n",
    "name = \"Vision\"  # Changed the agent name\n",
    "about = \"The AI assistant of the Avengers.\"\n",
    "\n",
    "# Default settings for the agent\n",
    "default_settings = {\n",
    "    \"creativity_level\": 0.7,  # Renamed from temperature for clarity\n",
    "    \"top_p\": 1.0,             # Cumulative probability for sampling\n",
    "    \"min_p\": 0.01,            # Minimum probability threshold\n",
    "    \"presence_penalty\": 0.0,  # Penalty for new topic introduction\n",
    "    \"frequency_penalty\": 0.0, # Penalty for repeated phrases\n",
    "    \"length_penalty\": 1.0,    # Penalty based on output length\n",
    "    \"max_tokens\": 150,        # Maximum number of tokens in output\n",
    "}\n",
    "\n",
    "# Create or update the agent\n",
    "agent = client.agents.create_or_update(\n",
    "    agent_id=AGENT_UUID,\n",
    "    name=name,\n",
    "    about=about,\n",
    "    model=\"gpt-4o\",\n",
    "    settings=default_settings  # Include default settings in the agent creation\n",
    ")\n",
    "\n",
    "# Output the created agent for verification\n",
    "print(f\"Agent '{agent.name}' created with ID: {agent.id}\")"
   ]
  },
  {
   "cell_type": "markdown",
   "metadata": {},
   "source": [
    "## Defining a Task\n",
    "\n",
    "Tasks in Julep are Github Actions style workflows that define long-running, multi-step actions. \n",
    "You can use them to conduct complex actions by defining them step-by-step. They have access to all Julep integrations.\n",
    "\n",
    "To learn more about tasks, visit [Julep documentation](https://github.com/julep-ai/julep/blob/dev/docs/julep-concepts.md#task)."
   ]
  },
  {
   "cell_type": "code",
   "execution_count": null,
   "metadata": {},
   "outputs": [],
   "source": [
    "import yaml"
   ]
  }
 ],
 "metadata": {
  "language_info": {
   "name": "python"
  }
 },
 "nbformat": 4,
 "nbformat_minor": 2
}
