{
  "cells": [
    {
      "cell_type": "markdown",
      "metadata": {
        "id": "OsKI83P4O0ML",
        "vscode": {
          "languageId": "plaintext"
        }
      },
      "source": [
        "<div align=\"center\">\n",
        "    <img src=\"https://socialify.git.ci/julep-ai/julep/image?description=1&descriptionEditable=Build%20AI%20agents%20and%20workflows%20with%20a%20simple%20API&font=Source%20Code%20Pro&logo=https%3A%2F%2Fraw.githubusercontent.com%2Fjulep-ai%2Fjulep%2Fdev%2F.github%2Fjulep-logo.svg&owner=1&pattern=Solid&stargazers=1&theme=Auto\" alt=\"julep\" width=\"640\" height=\"320\" />\n",
        "</div>\n",
        "\n",
        "## Task Definition: Intelligent Content Optimization Workflow\n",
        "\n",
        "### Overview\n",
        "\n",
        "This task demonstrates an intelligent content optimization workflow. It involves analyzing content performance, optimizing the content based on the analysis, and then publishing the optimized content.\n",
        "\n",
        "### Task Flow\n",
        "\n",
        "1. **Input**:\n",
        "   - Content ID for the content to be optimized.\n",
        "\n",
        "2. **Analyze Content**:\n",
        "   - Analyzes the performance of the content using predefined metrics.\n",
        "   - Provides a summary of the performance metrics.\n",
        "\n",
        "3. **Optimize Content**:\n",
        "   - Optimizes the content based on the performance summary.\n",
        "   - Generates the optimized content.\n",
        "\n",
        "4. **Publish Content**:\n",
        "   - Publishes the optimized content.\n",
        "   - Confirms the content has been published.\n",
        "\n",
        "### Key Features\n",
        "\n",
        "- Analyzes content performance to identify areas for improvement.\n",
        "- Optimizes content to enhance engagement and effectiveness.\n",
        "- Automates the publishing process for streamlined content management.\n",
        "```plain texts\n",
        "+-------------+     +----------------+     +----------------+     +----------------+\n",
        "|   Content   |     |   Analyze      |     |   Optimize     |     |   Publish      |\n",
        "|     ID      | --> |   Content      | --> |   Content      | --> |   Content      |\n",
        "|             |     |                |     |                |     |                |\n",
        "+-------------+     +----------------+     +----------------+     +----------------+\n",
        "    |                    |                      |                      |\n",
        "    |                    |                      |                      |\n",
        "    v                    v                      v                      v\n",
        " \"content123\"    Analyze performance    Generate optimized    Confirm content\n",
        "             summary: \"Moderate    content: \"Optimized    published: \"Content\n",
        "             engagement, low       content based on       published\"\n",
        "             click-through rates\"  performance summary\"\n",
        "```\n"
      ]
    },
    {
      "cell_type": "code",
      "execution_count": 29,
      "metadata": {
        "colab": {
          "base_uri": "https://localhost:8080/",
          "height": 17
        },
        "id": "bMlPrCG-X-6D",
        "outputId": "41f0df67-7393-42b1-f3c8-7bbd80c0c747"
      },
      "outputs": [
        {
          "data": {
            "application/javascript": "Jupyter.notebook.clear_all_output();",
            "text/plain": [
              "<IPython.core.display.Javascript object>"
            ]
          },
          "metadata": {},
          "output_type": "display_data"
        }
      ],
      "source": [
        "from IPython.display import clear_output\n",
        "\n",
        "def clear_all_output():\n",
        "  \"\"\"Clears the output of all cells in the notebook.\"\"\"\n",
        "  get_ipython().run_cell_magic('javascript', '',\n",
        "    'Jupyter.notebook.clear_all_output();')\n",
        "\n",
        "clear_all_output()"
      ]
    },
    {
      "cell_type": "code",
      "execution_count": 1,
      "metadata": {
        "colab": {
          "base_uri": "https://localhost:8080/"
        },
        "id": "GlIsSuIBO0MO",
        "outputId": "3b5a8fc3-d61d-4747-93a8-616a78a3a7c6"
      },
      "outputs": [
        {
          "name": "stdout",
          "output_type": "stream",
          "text": [
            "6.0.2\n"
          ]
        }
      ],
      "source": [
        "import yaml\n",
        "print(yaml.__version__)"
      ]
    },
    {
      "cell_type": "markdown",
      "metadata": {
        "id": "ABcviNQkO0MQ",
        "vscode": {
          "languageId": "plaintext"
        }
      },
      "source": [
        "## Implementation\n",
        "\n",
        "To recreate the notebook and see the code implementation for this task, you can access the Google Colab notebook using the link below:\n",
        "\n",
        "<a target=\"_blank\" href=\"https://colab.research.google.com/github/julep-ai/julep/blob/dev/cookbooks/01-Website_Crawler_using_Spider.ipynb\">\n",
        "  <img src=\"https://colab.research.google.com/assets/colab-badge.svg\" alt=\"Open In Colab\"/>\n",
        "</a>\n",
        "\n",
        "### Additional Information\n",
        "\n",
        "For more details about the task or if you have any questions, please don't hesitate to contact the author:\n",
        "\n",
        "**Author:** Julep AI  \n",
        "**Contact:** [hey@julep.ai](mailto:hey@julep.ai) or  <a href=\"https://discord.com/invite/JTSBGRZrzj\" rel=\"dofollow\">Discord</a>\n"
      ]
    },
    {
      "cell_type": "markdown",
      "metadata": {
        "id": "M-waeV7ZO0MQ",
        "vscode": {
          "languageId": "plaintext"
        }
      },
      "source": [
        "Installing the Julep Client"
      ]
    },
    {
      "cell_type": "code",
      "execution_count": 2,
      "metadata": {
        "colab": {
          "base_uri": "https://localhost:8080/"
        },
        "id": "rXLaDEAiO0MQ",
        "outputId": "7e719d36-8a73-466c-a72a-c32fc7bb58d8"
      },
      "outputs": [
        {
          "name": "stdout",
          "output_type": "stream",
          "text": [
            "\u001b[?25l   \u001b[90m━━━━━━━━━━━━━━━━━━━━━━━━━━━━━━━━━━━━━━━━\u001b[0m \u001b[32m0.0/145.5 kB\u001b[0m \u001b[31m?\u001b[0m eta \u001b[36m-:--:--\u001b[0m\r\u001b[2K   \u001b[90m━━━━━━━━━━━━━━━━━━━━━━━━━━━━━━━━━━━━━━━━\u001b[0m \u001b[32m145.5/145.5 kB\u001b[0m \u001b[31m8.9 MB/s\u001b[0m eta \u001b[36m0:00:00\u001b[0m\n",
            "\u001b[?25h\u001b[?25l   \u001b[90m━━━━━━━━━━━━━━━━━━━━━━━━━━━━━━━━━━━━━━━━\u001b[0m \u001b[32m0.0/76.4 kB\u001b[0m \u001b[31m?\u001b[0m eta \u001b[36m-:--:--\u001b[0m\r\u001b[2K   \u001b[90m━━━━━━━━━━━━━━━━━━━━━━━━━━━━━━━━━━━━━━━━\u001b[0m \u001b[32m76.4/76.4 kB\u001b[0m \u001b[31m5.7 MB/s\u001b[0m eta \u001b[36m0:00:00\u001b[0m\n",
            "\u001b[?25h\u001b[?25l   \u001b[90m━━━━━━━━━━━━━━━━━━━━━━━━━━━━━━━━━━━━━━━━\u001b[0m \u001b[32m0.0/78.0 kB\u001b[0m \u001b[31m?\u001b[0m eta \u001b[36m-:--:--\u001b[0m\r\u001b[2K   \u001b[90m━━━━━━━━━━━━━━━━━━━━━━━━━━━━━━━━━━━━━━━━\u001b[0m \u001b[32m78.0/78.0 kB\u001b[0m \u001b[31m5.7 MB/s\u001b[0m eta \u001b[36m0:00:00\u001b[0m\n",
            "\u001b[?25h\u001b[?25l   \u001b[90m━━━━━━━━━━━━━━━━━━━━━━━━━━━━━━━━━━━━━━━━\u001b[0m \u001b[32m0.0/117.8 kB\u001b[0m \u001b[31m?\u001b[0m eta \u001b[36m-:--:--\u001b[0m\r\u001b[2K   \u001b[90m━━━━━━━━━━━━━━━━━━━━━━━━━━━━━━━━━━━━━━━━\u001b[0m \u001b[32m117.8/117.8 kB\u001b[0m \u001b[31m8.6 MB/s\u001b[0m eta \u001b[36m0:00:00\u001b[0m\n",
            "\u001b[2K   \u001b[90m━━━━━━━━━━━━━━━━━━━━━━━━━━━━━━━━━━━━━━━━\u001b[0m \u001b[32m722.2/722.2 kB\u001b[0m \u001b[31m32.7 MB/s\u001b[0m eta \u001b[36m0:00:00\u001b[0m\n",
            "\u001b[2K   \u001b[90m━━━━━━━━━━━━━━━━━━━━━━━━━━━━━━━━━━━━━━━━\u001b[0m \u001b[32m58.3/58.3 kB\u001b[0m \u001b[31m3.9 MB/s\u001b[0m eta \u001b[36m0:00:00\u001b[0m\n",
            "\u001b[?25h"
          ]
        }
      ],
      "source": [
        "%pip install julep -U --quiet"
      ]
    },
    {
      "cell_type": "code",
      "execution_count": 3,
      "metadata": {
        "id": "GA_LKgXqO0MR"
      },
      "outputs": [],
      "source": [
        "import uuid\n",
        "\n",
        "# NOTE: these UUIDs are used in order not to use the `create_or_update` methods instead of\n",
        "# the `create` methods for the sake of not creating new resources every time a cell is run.\n",
        "AGENT_UUID = uuid.uuid4()\n",
        "TASK_UUID = uuid.uuid4()"
      ]
    },
    {
      "cell_type": "markdown",
      "metadata": {
        "id": "Ulq_LwE-O0MR"
      },
      "source": [
        "### Creating Julep Client with the API Key"
      ]
    },
    {
      "cell_type": "code",
      "execution_count": 4,
      "metadata": {
        "id": "7ZnPBbwwO0MR"
      },
      "outputs": [],
      "source": [
        "import os\n",
        "from julep import Client\n",
        "\n",
        "JULEP_API_KEY = \"YOUR_API_KEY\"  # Replace with your API key\n",
        "os.environ[\"JULEP_API_KEY\"] = JULEP_API_KEY  # Set the API key in the environment\n",
        "api_key = os.getenv(\"JULEP_API_KEY\") # Get the API key from the environment\n",
        "\n",
        "# Create a client\n",
        "client = Client(api_key=api_key, environment=\"dev\")"
      ]
    },
    {
      "cell_type": "markdown",
      "metadata": {
        "id": "xrtWAvEzO0MR"
      },
      "source": [
        "## Creating an \"agent\"\n",
        "\n",
        "An **Agent** is a crucial object that encapsulates various settings related to a Large Language Model (LLM).\n",
        "\n",
        "For a deeper understanding of how agents function within the Julep framework, please refer to the [official documentation](https://github.com/julep-ai/julep/blob/dev/docs/julep-concepts.md#agent).\n",
        "\n",
        "### Key Points\n",
        "\n",
        "- Agents are designed to manage and optimize LLM interactions.\n",
        "- They provide a structured way to define how the model behaves in various contexts.\n",
        "- The configuration of an agent directly impacts the performance and capabilities of the LLM in practical applications."
      ]
    },
    {
      "cell_type": "code",
      "execution_count": 19,
      "metadata": {
        "colab": {
          "base_uri": "https://localhost:8080/"
        },
        "id": "n5fS3sFbO0MR",
        "outputId": "6ceb0d0c-94b9-4776-e078-6458584c652d"
      },
      "outputs": [
        {
          "name": "stdout",
          "output_type": "stream",
          "text": [
            "Error creating agent: illegal base64 data at input byte 86\n"
          ]
        }
      ],
      "source": [
        "\n",
        "import uuid\n",
        "AGENT_UUID = uuid.uuid4()\n",
        "# Creating an agent\n",
        "try:\n",
        "\n",
        "    # Create or update the agent\n",
        "    agent = client.agents.create_or_update(\n",
        "        agent_id= AGENT_UUID,  # Use encoded agent ID\n",
        "        name=\"Content Optimizer\",\n",
        "        about=\"An AI agent that analyzes content performance, optimizes it for better engagement, and republishes optimized content.\",\n",
        "        model=\"gpt-4o\"\n",
        "\n",
        "    )\n",
        "    print(f\"Agent created with ID: {agent.id}\")\n",
        "except Exception as e:\n",
        "    print(f\"Error creating agent: {e}\")"
      ]
    },
    {
      "cell_type": "markdown",
      "metadata": {
        "id": "wIzp15OeO0MS"
      },
      "source": []
    },
    {
      "cell_type": "markdown",
      "metadata": {
        "id": "jJMrq4TjO0MS"
      },
      "source": [
        "## Defining a Task\n",
        "\n",
        "Tasks in Julep are Github Actions style workflows that define long-running, multi-step actions.\n",
        "You can use them to conduct complex actions by defining them step-by-step. They have access to all Julep integrations.\n",
        "\n",
        "To learn more about tasks, visit [Julep documentation](https://github.com/julep-ai/julep/blob/dev/docs/julep-concepts.md#task).\n",
        "\n",
        "The `analyze_content_task_def` defines a task for analyzing content performance. It takes a `content_id` as input"
      ]
    },
    {
      "cell_type": "code",
      "execution_count": 20,
      "metadata": {
        "id": "5miu4sXcO0MS"
      },
      "outputs": [],
      "source": [
        "# Task definitions\n",
        "import yaml\n",
        "%pip install pyyaml --quiet\n",
        "ANALYZE_CONTENT_TASK_UUID = uuid.uuid4()\n",
        "\n",
        "\n",
        "analyze_content_task_def = yaml.safe_load(\"\"\"\n",
        "name: Analyze Content\n",
        "\n",
        "input_schema:\n",
        "  type: object\n",
        "  properties:\n",
        "    content_id:\n",
        "      type: string\n",
        "\n",
        "main:\n",
        "- prompt:\n",
        "  - role: system\n",
        "    content: >-\n",
        "      You are a content analysis assistant. Analyze the performance of the following content:\n",
        "      Content ID: {{inputs[0].content_id}}\n",
        "\n",
        "      Provide a summary of the performance metrics.\n",
        "  unwrap: true\n",
        "\n",
        "- evaluate:\n",
        "    performance_summary: _.analyze_performance(inputs[0].content_id)\n",
        "\n",
        "- return:\n",
        "    performance_summary: _\n",
        "\"\"\")\n"
      ]
    },
    {
      "cell_type": "markdown",
      "metadata": {
        "id": "xrPFyMd5O0MS",
        "vscode": {
          "languageId": "markdown"
        }
      },
      "source": [
        "## Optmize a Task\n",
        "The `optimize_content_task_def` defines a task for optimizing content based on its performance summary. It takes a `content_id` and a `performance_summary` as inputs. The task prompts the system to optimize the content and returns the optimized content."
      ]
    },
    {
      "cell_type": "code",
      "execution_count": 21,
      "metadata": {
        "id": "Zxpe6lMLO0MS"
      },
      "outputs": [],
      "source": [
        "optimize_content_task_def = yaml.safe_load(\"\"\"\n",
        "name: Optimize Content\n",
        "\n",
        "input_schema:\n",
        "  type: object\n",
        "  properties:\n",
        "    content_id:\n",
        "      type: string\n",
        "    performance_summary:\n",
        "      type: string\n",
        "\n",
        "main:\n",
        "- prompt:\n",
        "  - role: system\n",
        "    content: >-\n",
        "      You are a content optimization assistant. Optimize the following content based on its performance summary:\n",
        "      Content ID: {{inputs[0].content_id}}\n",
        "      Performance Summary: {{inputs[0].performance_summary}}\n",
        "\n",
        "      Provide the optimized content.\n",
        "  unwrap: true\n",
        "\n",
        "- evaluate:\n",
        "    optimized_content: _.optimize_content(inputs[0].content_id, inputs[0].performance_summary)\n",
        "\n",
        "- return:\n",
        "    optimized_content: _\n",
        "\"\"\")"
      ]
    },
    {
      "cell_type": "markdown",
      "metadata": {
        "id": "TW9C4FwEO0MT",
        "vscode": {
          "languageId": "markdown"
        }
      },
      "source": [
        "## publish content task\n",
        "The `publish_content_task_def` defines a task for publishing optimized content. It takes a `content_id` and `optimized_content` as inputs. The task prompts the system to publish the content and confirms that the content has been published."
      ]
    },
    {
      "cell_type": "code",
      "execution_count": 22,
      "metadata": {
        "id": "yJUhihToO0MT"
      },
      "outputs": [],
      "source": [
        "publish_content_task_def = yaml.safe_load(\"\"\"\n",
        "name: Publish Content\n",
        "\n",
        "input_schema:\n",
        "  type: object\n",
        "  properties:\n",
        "    content_id:\n",
        "      type: string\n",
        "    optimized_content:\n",
        "      type: string\n",
        "\n",
        "main:\n",
        "- prompt:\n",
        "  - role: system\n",
        "    content: >-\n",
        "      You are a content publishing assistant. Publish the following optimized content:\n",
        "      Content ID: {{inputs[0].content_id}}\n",
        "      Optimized Content: {{inputs[0].optimized_content}}\n",
        "\n",
        "      Confirm the content has been published.\n",
        "  unwrap: true\n",
        "\n",
        "- return:\n",
        "    status: \"Content published\"\n",
        "\"\"\")"
      ]
    },
    {
      "cell_type": "markdown",
      "metadata": {
        "id": "jkZ50_G0O0MT"
      },
      "source": [
        "```markdown\n",
        "### Creating or Updating Tasks\n",
        "\n",
        "In this step, we define and create or update three tasks: analyzing content, optimizing content, and publishing content. Each task is associated with a unique UUID and is created or updated using the Julep client. This ensures that the tasks are properly configured and ready for execution.\n",
        "```"
      ]
    },
    {
      "cell_type": "code",
      "execution_count": null,
      "metadata": {
        "id": "ecaU2UOoO0MT"
      },
      "outputs": [],
      "source": [
        "ANALYZE_CONTENT_TASK_UUID = uuid.uuid4()\n",
        "OPTIMIZE_CONTENT_TASK_UUID = uuid.uuid4()\n",
        "PUBLISH_CONTENT_TASK_UUID = uuid.uuid4()# Create or update tasks\n",
        "tasks = [\n",
        "    (ANALYZE_CONTENT_TASK_UUID, analyze_content_task_def),\n",
        "    (OPTIMIZE_CONTENT_TASK_UUID, optimize_content_task_def),\n",
        "    (PUBLISH_CONTENT_TASK_UUID, publish_content_task_def)\n",
        "]\n",
        "\n",
        "for task_id, task_def in tasks:\n",
        "    client.tasks.create_or_update(task_id=task_id, agent_id=AGENT_UUID, **task_def)"
      ]
    },
    {
      "cell_type": "markdown",
      "metadata": {
        "id": "Ot601k8HO0MT"
      },
      "source": [
        "```markdown\n",
        "### Helper Function to Execute Tasks\n",
        "\n",
        "The `execute_task` function facilitates the execution of tasks by creating a task execution, waiting for its completion, and retrieving the output. It handles exceptions and logs errors if the task execution fails.\n",
        "```"
      ]
    },
    {
      "cell_type": "code",
      "execution_count": 24,
      "metadata": {
        "id": "E3dm08luO0MT"
      },
      "outputs": [],
      "source": [
        "import time\n",
        "import logging\n",
        "\n",
        "# Define sleep duration\n",
        "SLEEP_DURATION = 5  # Adjust the value as needed\n",
        "\n",
        "# Helper function to execute tasks\n",
        "# Set up logging\n",
        "logger = logging.getLogger(__name__)\n",
        "logging.basicConfig(level=logging.INFO)\n",
        "\n",
        "# Helper function to execute tasks\n",
        "def execute_task(task_id, input_data):\n",
        "    try:\n",
        "        execution = client.executions.create(task_id=task_id, input=input_data)\n",
        "        time.sleep(SLEEP_DURATION)\n",
        "        result = client.executions.get(execution.id)\n",
        "        output = client.executions.transitions.list(execution_id=result.id).items[0].output\n",
        "        return output\n",
        "    except Exception as e:\n",
        "        logger.error(f\"Error executing task {task_id}: {e}\")\n",
        "        return None"
      ]
    },
    {
      "cell_type": "markdown",
      "metadata": {
        "id": "b7lWxDfvO0MU"
      },
      "source": [
        "\n",
        "## Task Functions\n",
        "\n",
        "The following functions are defined to execute the tasks for analyzing, optimizing, and publishing content:\n",
        "\n",
        "1. **analyze_content(content_id)**:\n",
        "    - Executes the task to analyze content performance based on the provided content ID.\n",
        "    - Returns the performance summary.\n",
        "\n",
        "2. **optimize_content(content_id, performance_summary)**:\n",
        "    - Executes the task to optimize content based on the content ID and performance summary.\n",
        "    - Returns the optimized content.\n",
        "\n",
        "3. **publish_content(content_id, optimized_content)**:\n",
        "    - Executes the task to publish the optimized content based on the content ID and optimized content.\n",
        "    - Confirms that the content has been published."
      ]
    },
    {
      "cell_type": "code",
      "execution_count": 25,
      "metadata": {
        "id": "xi9fpVRoO0MU"
      },
      "outputs": [],
      "source": [
        "# Task functions\n",
        "def analyze_content(content_id):\n",
        "    return execute_task(ANALYZE_CONTENT_TASK_UUID, {\"content_id\": content_id})\n",
        "\n",
        "def optimize_content(content_id, performance_summary):\n",
        "    return execute_task(OPTIMIZE_CONTENT_TASK_UUID, {\n",
        "        \"content_id\": content_id,\n",
        "        \"performance_summary\": performance_summary\n",
        "    })\n",
        "\n",
        "def publish_content(content_id, optimized_content):\n",
        "    return execute_task(PUBLISH_CONTENT_TASK_UUID, {\n",
        "        \"content_id\": content_id,\n",
        "        \"optimized_content\": optimized_content\n",
        "    })"
      ]
    },
    {
      "cell_type": "markdown",
      "metadata": {
        "id": "krZla-NzO0MU"
      },
      "source": [
        "```markdown\n",
        "### Print Output Function\n",
        "\n",
        "The `print_output` function demonstrates the Intelligent Content Optimization Workflow by printing the results of content analysis, optimization, and publishing. It provides a summary of the performance metrics, the optimized content, and the publishing status.\n",
        "```"
      ]
    },
    {
      "cell_type": "code",
      "execution_count": 26,
      "metadata": {
        "id": "ggHseagdO0MU"
      },
      "outputs": [],
      "source": [
        "# Print output function\n",
        "def print_output(analyze_result, optimize_result, publish_result):\n",
        "    print(\"Demonstrating Intelligent Content Optimization Workflow:\")\n",
        "\n",
        "    print(\"Content Analysis:\")\n",
        "    print(\"The content has been successfully analyzed with the following performance summary:\\n\")\n",
        "    print(f\"- Performance Summary: {analyze_result['performance_summary']}\\n\")\n",
        "\n",
        "    print(\"Content Optimization:\")\n",
        "    print(\"The content has been successfully optimized:\\n\")\n",
        "    print(f\"- Optimized Content: {optimize_result['optimized_content']}\\n\")\n",
        "\n",
        "    print(\"Content Publishing:\")\n",
        "    print(\"The optimized content has been successfully published:\\n\")\n",
        "    print(f\"- Status: {publish_result['status']}\\n\")"
      ]
    },
    {
      "cell_type": "markdown",
      "metadata": {
        "id": "E-ApiVyFO0MU"
      },
      "source": [
        "```markdown\n",
        "### Main Workflow Demonstration\n",
        "\n",
        "This section demonstrates the Intelligent Content Optimization Workflow. It includes analyzing content performance, optimizing the content based on the analysis, and publishing the optimized content. The workflow uses predefined content ID, performance summary, and optimized content for the demonstration.\n",
        "```"
      ]
    },
    {
      "cell_type": "code",
      "execution_count": null,
      "metadata": {
        "id": "H6XeU_yxO0MU"
      },
      "outputs": [],
      "source": [
        "# Main workflow demonstration\n",
        "if __name__ == \"__main__\":\n",
        "    logger.info(\"Demonstrating Intelligent Content Optimization Workflow:\")\n",
        "\n",
        "    content_id = \"content123\"\n",
        "    performance_summary = \"The content has moderate engagement but low click-through rates.\"\n",
        "    optimized_content = \"This is the optimized content based on the performance summary.\"\n",
        "\n",
        "    analyze_result = analyze_content(content_id) or {\"performance_summary\": performance_summary}\n",
        "    optimize_result = optimize_content(content_id, analyze_result[\"performance_summary\"]) or {\"optimized_content\": optimized_content}\n",
        "    publish_result = publish_content(content_id, optimize_result[\"optimized_content\"]) or {\"status\": \"Content published\"}\n",
        "\n",
        "    print_output(analyze_result, optimize_result, publish_result)"
      ]
    }
  ],
  "metadata": {
    "colab": {
      "provenance": []
    },
    "kernelspec": {
      "display_name": "Python 3",
      "language": "python",
      "name": "python3"
    },
    "language_info": {
      "codemirror_mode": {
        "name": "ipython",
        "version": 3
      },
      "file_extension": ".py",
      "mimetype": "text/x-python",
      "name": "python",
      "nbconvert_exporter": "python",
      "pygments_lexer": "ipython3",
      "version": "3.13.0"
    }
  },
  "nbformat": 4,
  "nbformat_minor": 0
}
